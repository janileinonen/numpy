{
 "cells": [
  {
   "cell_type": "markdown",
   "metadata": {},
   "source": [
    "# Using numpy"
   ]
  },
  {
   "cell_type": "markdown",
   "metadata": {},
   "source": [
    "Numpy is a library for the Python programming language. It adds support for large, multi-dimensional arrays and matrices. It has a large collection of mathematical functions to operate on these arrays. \n",
    "\n",
    "First we import the numpy-library, then we create an array and print it."
   ]
  },
  {
   "cell_type": "code",
   "execution_count": 2,
   "metadata": {
    "collapsed": false
   },
   "outputs": [
    {
     "name": "stdout",
     "output_type": "stream",
     "text": [
      "[[1 2]\n",
      " [3 4]]\n"
     ]
    }
   ],
   "source": [
    "import numpy as np           #Import numpy library as a short name np\n",
    "a = np.array([[1,2],[3,4]])  #Create an array \n",
    "print a                      #Print the Array"
   ]
  },
  {
   "cell_type": "markdown",
   "metadata": {},
   "source": [
    "Create 10 x 10 array full of ones and a random array:"
   ]
  },
  {
   "cell_type": "code",
   "execution_count": 6,
   "metadata": {
    "collapsed": false
   },
   "outputs": [
    {
     "name": "stdout",
     "output_type": "stream",
     "text": [
      "[[ 1.  1.  1.  1.  1.  1.  1.  1.  1.  1.]\n",
      " [ 1.  1.  1.  1.  1.  1.  1.  1.  1.  1.]\n",
      " [ 1.  1.  1.  1.  1.  1.  1.  1.  1.  1.]\n",
      " [ 1.  1.  1.  1.  1.  1.  1.  1.  1.  1.]\n",
      " [ 1.  1.  1.  1.  1.  1.  1.  1.  1.  1.]\n",
      " [ 1.  1.  1.  1.  1.  1.  1.  1.  1.  1.]\n",
      " [ 1.  1.  1.  1.  1.  1.  1.  1.  1.  1.]\n",
      " [ 1.  1.  1.  1.  1.  1.  1.  1.  1.  1.]\n",
      " [ 1.  1.  1.  1.  1.  1.  1.  1.  1.  1.]\n",
      " [ 1.  1.  1.  1.  1.  1.  1.  1.  1.  1.]]\n",
      "[[ 0.59710869  0.57054003  0.71197508  0.80508534  0.30290094]\n",
      " [ 0.06052442  0.74875549  0.59185483  0.75588652  0.54458034]\n",
      " [ 0.53533902  0.1538716   0.99503046  0.8259193   0.41193751]\n",
      " [ 0.29232844  0.27755668  0.73414257  0.22606308  0.70253809]\n",
      " [ 0.26782762  0.56768674  0.04236896  0.22760428  0.40025193]]\n"
     ]
    }
   ],
   "source": [
    "b = np.ones((10,10))         \n",
    "print b\n",
    "c = np.random.random((5,5))\n",
    "print c"
   ]
  },
  {
   "cell_type": "code",
   "execution_count": 26,
   "metadata": {
    "collapsed": false
   },
   "outputs": [
    {
     "name": "stdout",
     "output_type": "stream",
     "text": [
      "[[ 0  1  2  3  4  5  6  7  8  9]\n",
      " [10 11 12 13 14 15 16 17 18 19]\n",
      " [20 21 22 23 24 25 26 27 28 29]\n",
      " [30 31 32 33 34 35 36 37 38 39]\n",
      " [40 41 42 43 44 45 46 47 48 49]]\n",
      "[[ 1  2  3  4  5  6  7  8  9 10]\n",
      " [11 12 13 14 15 16 17 18 19 20]\n",
      " [21 22 23 24 25 26 27 28 29 30]\n",
      " [31 32 33 34 35 36 37 38 39 40]\n",
      " [41 42 43 44 45 46 47 48 49 50]]\n",
      "(5, 10)\n"
     ]
    }
   ],
   "source": [
    "d = np.arange(50).reshape(5,10)       #Create 1, 2, 3, .... matrix (10 x 5) starting at 0\n",
    "print d\n",
    "e = np.arange(1,51).reshape(5,10)     #Create 1, 2, 3, ...  matrix (10 x 5) starting at 1\n",
    "print e\n",
    "print e.shape                         #Print shape of the matrix"
   ]
  },
  {
   "cell_type": "code",
   "execution_count": 25,
   "metadata": {
    "collapsed": false
   },
   "outputs": [
    {
     "name": "stdout",
     "output_type": "stream",
     "text": [
      "[11 12 13 14 15 16 17 18 19 20]\n",
      "[ 3 13 23 33 43]\n"
     ]
    }
   ],
   "source": [
    "f = e[1, :]                         #Taking the second row\n",
    "print f\n",
    "g = e[:, 2]                         #Taking the second column\n",
    "print g"
   ]
  },
  {
   "cell_type": "code",
   "execution_count": 28,
   "metadata": {
    "collapsed": false
   },
   "outputs": [
    {
     "name": "stdout",
     "output_type": "stream",
     "text": [
      "[[ 1  2  3  4  5  6  7  8  9 10]\n",
      " [11 12 13 14 15 16 17 18 19 20]\n",
      " [21 22 23 24 25 26 27 28 29 30]\n",
      " [31 32 33 34 35 36 37 38 39 40]\n",
      " [41 42 43 44 45 46 47 48 49 50]]\n",
      "[[False  True False  True False  True False  True False  True]\n",
      " [False  True False  True False  True False  True False  True]\n",
      " [False  True False  True False  True False  True False  True]\n",
      " [False  True False  True False  True False  True False  True]\n",
      " [False  True False  True False  True False  True False  True]]\n"
     ]
    }
   ],
   "source": [
    "print e\n",
    "even_matrix = (e % 2 == 0)          #Check if the number is even in the matrix\n",
    "print even_matrix"
   ]
  },
  {
   "cell_type": "code",
   "execution_count": 29,
   "metadata": {
    "collapsed": false
   },
   "outputs": [
    {
     "name": "stdout",
     "output_type": "stream",
     "text": [
      "[[ 1  3  5  7  9 11 13 15 17 19]\n",
      " [21 23 25 27 29 31 33 35 37 39]\n",
      " [41 43 45 47 49 51 53 55 57 59]\n",
      " [61 63 65 67 69 71 73 75 77 79]\n",
      " [81 83 85 87 89 91 93 95 97 99]]\n"
     ]
    }
   ],
   "source": [
    "print(d+e)                        #Count two matrices together"
   ]
  },
  {
   "cell_type": "code",
   "execution_count": 30,
   "metadata": {
    "collapsed": false
   },
   "outputs": [
    {
     "name": "stdout",
     "output_type": "stream",
     "text": [
      "[[   0    2    6   12   20   30   42   56   72   90]\n",
      " [ 110  132  156  182  210  240  272  306  342  380]\n",
      " [ 420  462  506  552  600  650  702  756  812  870]\n",
      " [ 930  992 1056 1122 1190 1260 1332 1406 1482 1560]\n",
      " [1640 1722 1806 1892 1980 2070 2162 2256 2352 2450]]\n"
     ]
    }
   ],
   "source": [
    "print (d*e)                      #Multiply matrices"
   ]
  },
  {
   "cell_type": "code",
   "execution_count": null,
   "metadata": {
    "collapsed": true
   },
   "outputs": [],
   "source": []
  }
 ],
 "metadata": {
  "kernelspec": {
   "display_name": "Python 2",
   "language": "python",
   "name": "python2"
  },
  "language_info": {
   "codemirror_mode": {
    "name": "ipython",
    "version": 2
   },
   "file_extension": ".py",
   "mimetype": "text/x-python",
   "name": "python",
   "nbconvert_exporter": "python",
   "pygments_lexer": "ipython2",
   "version": "2.7.6"
  }
 },
 "nbformat": 4,
 "nbformat_minor": 2
}
